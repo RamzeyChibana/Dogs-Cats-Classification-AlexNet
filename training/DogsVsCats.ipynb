{
 "cells": [
  {
   "cell_type": "code",
   "execution_count": null,
   "metadata": {},
   "outputs": [],
   "source": [
    "'''\n",
    "Data are downloaded from kaggle \n",
    "the link:\n",
    "https://www.kaggle.com/competitions/dogs-vs-cats/data\n",
    "\n",
    "'''\n",
    "\n",
    "import tensorflow as tf\n",
    "from tensorflow import keras\n",
    "from keras import layers,regularizers\n",
    "import pandas as pd\n",
    "import numpy as np\n"
   ]
  },
  {
   "cell_type": "markdown",
   "metadata": {},
   "source": [
    "HyperParameters"
   ]
  },
  {
   "cell_type": "code",
   "execution_count": null,
   "metadata": {},
   "outputs": [],
   "source": [
    "BATCH_SIZE=32\n",
    "STEPS_PER_EPOCH_TR=np.ceil(40000/BATCH_SIZE)\n",
    "STEPS_PER_EPOCH_TS=np.ceil(10000/BATCH_SIZE)\n",
    "LAMBDA=0.07\n",
    "ALPHA=0.001"
   ]
  },
  {
   "cell_type": "markdown",
   "metadata": {},
   "source": [
    "Build Dataframe"
   ]
  },
  {
   "cell_type": "code",
   "execution_count": null,
   "metadata": {},
   "outputs": [],
   "source": [
    "import os\n",
    "path=\"D:\\\\df\\\\dogs-vs-cats\\\\train\\\\\"\n",
    "files=os.listdir(path)\n",
    "labels=[]\n",
    "for file in files:\n",
    "    class_type=file.split(\".\")[0]\n",
    "    if class_type==\"cat\":\n",
    "        labels.append(\"0\")\n",
    "    elif class_type==\"dog\":\n",
    "        labels.append(\"1\")\n",
    "\n",
    "    elif file.split(\".\"):\n",
    "        print(\"unkown file\")\n",
    "        break\n",
    "\n",
    "df=pd.DataFrame({\"images\":files,\"outputs\":labels})\n",
    "df.head(5)\n",
    "df[\"outputs\"].unique()"
   ]
  },
  {
   "cell_type": "markdown",
   "metadata": {},
   "source": [
    "Build our Data Generator"
   ]
  },
  {
   "cell_type": "code",
   "execution_count": null,
   "metadata": {},
   "outputs": [],
   "source": [
    "datagenerator=tf.keras.preprocessing.image.ImageDataGenerator(\n",
    "    rescale=1./255,\n",
    "    horizontal_flip=True,\n",
    "    rotation_range=5,\n",
    "    zoom_range=[0.9,.9],\n",
    "    validation_split=0.2,\n",
    ")\n",
    "\n",
    "train_gen=datagenerator.flow_from_dataframe(\n",
    "    df,\n",
    "    path,\n",
    "    target_size=(227,227),\n",
    "    color_mode=\"rgb\",\n",
    "    shuffle=True,\n",
    "    class_mode=\"binary\",\n",
    "    subset=\"training\",\n",
    "    x_col=\"images\",\n",
    "    y_col='outputs'\n",
    "    )\n",
    "val_gen=datagenerator.flow_from_dataframe(df,path,subset=\"validation\",x_col=\"images\",y_col='outputs',shuffle=True,target_size=(227,227),class_mode=\"binary\")\n",
    "    "
   ]
  },
  {
   "cell_type": "markdown",
   "metadata": {},
   "source": [
    " AlexNet Model"
   ]
  },
  {
   "cell_type": "code",
   "execution_count": null,
   "metadata": {},
   "outputs": [],
   "source": [
    "class CNNBlock(layers.Layer):\n",
    "    def __init__(self,filter_size,channels,padding=\"same\",filter_stride=1,pool_info=None):\n",
    "        super(CNNBlock,self).__init__()\n",
    "        self.dopool=False\n",
    "        self.conv=layers.Conv2D(channels,filter_size,filter_stride,padding=padding)\n",
    "        self.batch=layers.BatchNormalization()\n",
    "        if pool_info != None:\n",
    "            self.pooling=layers.MaxPool2D(pool_info[0],pool_info[1])\n",
    "            self.dopool=True\n",
    "    \n",
    "    def call(self,inputs,training=False):\n",
    "        x=self.conv(inputs)\n",
    "        x=self.batch(x,training=training)\n",
    "        x=tf.nn.relu(x)\n",
    "        if self.dopool:\n",
    "            x=self.pooling(x)\n",
    "        return x\n",
    "\n",
    "\n",
    "class FullyConnected(layers.Layer):\n",
    "    def __init__(self,units,lambda_reg=0.01,drob_rate=0.3):\n",
    "        super(FullyConnected,self).__init__()\n",
    "        self.layer=layers.Dense(units,kernel_regularizer=regularizers.l2(lambda_reg))\n",
    "        self.batch=layers.BatchNormalization()\n",
    "        self.drob=layers.Dropout(drob_rate)\n",
    "    def call(self, inputs, training=False):\n",
    "        x=self.layer(inputs)\n",
    "        x=self.batch(x,training=training)\n",
    "        x=tf.nn.relu(x)\n",
    "        x=self.drob(x,training=training)\n",
    "        return x\n",
    "\n",
    "\n",
    "\n",
    "class AlexNet(tf.keras.Model):\n",
    "    def __init__(self):\n",
    "        super(AlexNet,self).__init__()\n",
    "        self.cnn1=CNNBlock((11,11),96,'valid',4,((3,3),2))\n",
    "        self.cnn2=CNNBlock((5,5),256,pool_info=((3,3),2))\n",
    "        self.cnn3=CNNBlock((3,3),384)\n",
    "        self.cnn4=CNNBlock((3,3),384)\n",
    "        self.cnn5=CNNBlock((3,3),256,pool_info=((3,3),2))\n",
    "        self.fc6=FullyConnected(4096,drob_rate=0.,lambda_reg=LAMBDA)\n",
    "        self.fc7=FullyConnected(4096,drob_rate=0.4)\n",
    "        self.outputlayer=layers.Dense(1,activation=\"sigmoid\")\n",
    "    def call(self,inputs,training=False):\n",
    "        x=self.cnn1(inputs,training)\n",
    "        x=self.cnn2(x,training=training)\n",
    "        x=self.cnn3(x,training=training)\n",
    "        x=self.cnn4(x,training=training)\n",
    "        x=self.cnn5(x,training=training)\n",
    "        x=layers.Flatten()(x)\n",
    "        x=self.fc6(x,training=training)\n",
    "        x=self.fc7(x,training=training)\n",
    "        x=self.outputlayer(x,training=training)\n",
    "        return x\n",
    "\n",
    "model=AlexNet()\n",
    "model.compile(optimizer=tf.keras.optimizers.Adam(ALPHA),loss=keras.losses.BinaryCrossentropy(),metrics=['acc'])"
   ]
  },
  {
   "cell_type": "markdown",
   "metadata": {},
   "source": [
    "Training"
   ]
  },
  {
   "cell_type": "code",
   "execution_count": null,
   "metadata": {},
   "outputs": [],
   "source": [
    "with tf.device('/gPU:0'):\n",
    "        history=model.fit(train_gen,steps_per_epoch=train_gen.samples // BATCH_SIZE,validation_data=val_gen,validation_steps=val_gen.samples // BATCH_SIZE,epochs=4,verbose=1 )"
   ]
  }
 ],
 "metadata": {
  "kernelspec": {
   "display_name": "Python 3.9.7 64-bit",
   "language": "python",
   "name": "python3"
  },
  "language_info": {
   "codemirror_mode": {
    "name": "ipython",
    "version": 3
   },
   "file_extension": ".py",
   "mimetype": "text/x-python",
   "name": "python",
   "nbconvert_exporter": "python",
   "pygments_lexer": "ipython3",
   "version": "3.9.7"
  },
  "orig_nbformat": 4,
  "vscode": {
   "interpreter": {
    "hash": "f3663913924b1daa3d8d3926798e99031b125700758b9d2e89fd61fec1c9e6b0"
   }
  }
 },
 "nbformat": 4,
 "nbformat_minor": 2
}
